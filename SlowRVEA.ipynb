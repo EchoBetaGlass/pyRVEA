{
 "cells": [
  {
   "cell_type": "code",
   "execution_count": 1,
   "metadata": {},
   "outputs": [],
   "source": [
    "from pyrvea.Population.Population import Population\n",
    "from pyrvea.Problem.testProblem import testProblem\n",
    "from pyrvea.EAs.slowRVEA import slowRVEA\n",
    "import altair as alt\n",
    "import pandas as pd\n",
    "import numpy as np"
   ]
  },
  {
   "cell_type": "code",
   "execution_count": 2,
   "metadata": {},
   "outputs": [
    {
     "data": {
      "text/plain": [
       "RendererRegistry.enable('notebook')"
      ]
     },
     "execution_count": 2,
     "metadata": {},
     "output_type": "execute_result"
    }
   ],
   "source": [
    "alt.data_transformers.enable('json')\n",
    "alt.renderers.enable('notebook')"
   ]
  },
  {
   "cell_type": "code",
   "execution_count": 3,
   "metadata": {},
   "outputs": [],
   "source": [
    "name = \"DTLZ2\"\n",
    "k = 10\n",
    "numobj = 7\n",
    "numconst = 0\n",
    "numvar = numobj + k - 1\n",
    "problem = testProblem(name, numvar, numobj, numconst)"
   ]
  },
  {
   "cell_type": "code",
   "execution_count": 4,
   "metadata": {},
   "outputs": [],
   "source": [
    "pop = Population(problem, assign_type=\"empty\")"
   ]
  },
  {
   "cell_type": "code",
   "execution_count": 5,
   "metadata": {},
   "outputs": [],
   "source": [
    "orig_point = [1] * numobj\n",
    "first_ref = [1, 1] + [0]*(numobj-2)\n",
    "second_ref = [0]*(numobj-2) + [1,1]"
   ]
  },
  {
   "cell_type": "markdown",
   "metadata": {},
   "source": [
    "# Initial Evolution"
   ]
  },
  {
   "cell_type": "code",
   "execution_count": 6,
   "metadata": {
    "scrolled": true
   },
   "outputs": [
    {
     "name": "stdout",
     "output_type": "stream",
     "text": [
      "Plot saved as:  DTLZ2_7.html\n",
      "View the plot by opening the file in browser.\n",
      "To view the plot in Jupyter Notebook, use the IFrame command.\n"
     ]
    },
    {
     "data": {
      "application/vnd.jupyter.widget-view+json": {
       "model_id": "bff4314d57b946348b59dac8afae75db",
       "version_major": 2,
       "version_minor": 0
      },
      "text/plain": [
       "HBox(children=(IntProgress(value=0, description='Iteration', max=14, style=ProgressStyle(description_width='in…"
      ]
     },
     "metadata": {},
     "output_type": "display_data"
    },
    {
     "name": "stdout",
     "output_type": "stream",
     "text": [
      "\n"
     ]
    }
   ],
   "source": [
    "pop.evolve(slowRVEA, {\"generations_per_iteration\": 200, \"iterations\": 15})"
   ]
  },
  {
   "cell_type": "code",
   "execution_count": 7,
   "metadata": {
    "scrolled": true
   },
   "outputs": [
    {
     "data": {
      "application/vnd.jupyter.widget-view+json": {
       "model_id": "5e4157a462bc4885b3a7d1825bae3c48",
       "version_major": 2,
       "version_minor": 0
      },
      "text/plain": [
       "HBox(children=(IntProgress(value=0, description='Iteration', max=19, style=ProgressStyle(description_width='in…"
      ]
     },
     "metadata": {},
     "output_type": "display_data"
    },
    {
     "name": "stderr",
     "output_type": "stream",
     "text": [
      "/home/bssainix/Projects/pyRVEA/pyrvea/Selection/APD_select.py:48: UserWarning:\n",
      "\n",
      "RVEA.py line 64 cosine smaller than 0 increased to 0\n",
      "\n"
     ]
    },
    {
     "name": "stdout",
     "output_type": "stream",
     "text": [
      "\n"
     ]
    }
   ],
   "source": [
    "pop.evolve(\n",
    "    slowRVEA,\n",
    "    {\n",
    "        \"generations_per_iteration\": 4,\n",
    "        \"iterations\": 20,\n",
    "        \"old_point\": orig_point,\n",
    "        \"ref_point\": first_ref,\n",
    "    },\n",
    ")"
   ]
  },
  {
   "cell_type": "code",
   "execution_count": 8,
   "metadata": {},
   "outputs": [
    {
     "data": {
      "application/vnd.jupyter.widget-view+json": {
       "model_id": "dd64e4e1f36142e9b8c92387289e64d0",
       "version_major": 2,
       "version_minor": 0
      },
      "text/plain": [
       "HBox(children=(IntProgress(value=0, description='Iteration', max=19, style=ProgressStyle(description_width='in…"
      ]
     },
     "metadata": {},
     "output_type": "display_data"
    },
    {
     "name": "stdout",
     "output_type": "stream",
     "text": [
      "\n"
     ]
    }
   ],
   "source": [
    "pop.evolve(\n",
    "    slowRVEA,\n",
    "    {\n",
    "        \"generations_per_iteration\": 4,\n",
    "        \"iterations\": 20,\n",
    "        \"old_point\": first_ref,\n",
    "        \"ref_point\": second_ref,\n",
    "    },\n",
    ")"
   ]
  },
  {
   "cell_type": "code",
   "execution_count": 7,
   "metadata": {},
   "outputs": [],
   "source": [
    "archive_df = pop.archive"
   ]
  },
  {
   "cell_type": "code",
   "execution_count": 8,
   "metadata": {},
   "outputs": [],
   "source": [
    "objective_norms = archive_df['objective_values'].apply(lambda x: np.linalg.norm(x))\n",
    "archive_df['objective_norms'] = objective_norms"
   ]
  },
  {
   "cell_type": "code",
   "execution_count": 9,
   "metadata": {},
   "outputs": [],
   "source": [
    "x = alt.X('generation')\n",
    "y_obj = alt.Y('median(objective_norms)', scale=alt.Scale(type='log',domain=(1,10)))"
   ]
  },
  {
   "cell_type": "code",
   "execution_count": 10,
   "metadata": {},
   "outputs": [],
   "source": [
    "line = alt.Chart(archive_df).mark_line(clip=True).encode(x=x, y=y_obj).properties(title='Median Magnitude of objective vectors')"
   ]
  },
  {
   "cell_type": "code",
   "execution_count": 11,
   "metadata": {},
   "outputs": [],
   "source": [
    "band =alt.Chart(archive_df).mark_errorband(extent='iqr', clip=True).encode(x=x, y='objective_norms')"
   ]
  },
  {
   "cell_type": "code",
   "execution_count": 12,
   "metadata": {},
   "outputs": [
    {
     "data": {
      "application/javascript": [
       "var spec = {\"config\": {\"view\": {\"width\": 400, \"height\": 300}, \"mark\": {\"tooltip\": null}}, \"data\": {\"url\": \"altair-data-79451d8c73e0fe59881508caf0c09026.json\", \"format\": {\"type\": \"json\"}}, \"mark\": {\"type\": \"line\", \"clip\": true}, \"encoding\": {\"x\": {\"type\": \"quantitative\", \"field\": \"generation\"}, \"y\": {\"type\": \"quantitative\", \"aggregate\": \"median\", \"field\": \"objective_norms\", \"scale\": {\"domain\": [1, 10], \"type\": \"log\"}}}, \"title\": \"Median Magnitude of objective vectors\", \"$schema\": \"https://vega.github.io/schema/vega-lite/v3.2.1.json\"};\n",
       "var opt = {};\n",
       "var type = \"vega-lite\";\n",
       "var id = \"6dcb5551-7ff4-47cf-9056-d63fccd1e1e2\";\n",
       "\n",
       "var output_area = this;\n",
       "\n",
       "require([\"nbextensions/jupyter-vega/index\"], function(vega) {\n",
       "  var target = document.createElement(\"div\");\n",
       "  target.id = id;\n",
       "  target.className = \"vega-embed\";\n",
       "\n",
       "  var style = document.createElement(\"style\");\n",
       "  style.textContent = [\n",
       "    \".vega-embed .error p {\",\n",
       "    \"  color: firebrick;\",\n",
       "    \"  font-size: 14px;\",\n",
       "    \"}\",\n",
       "  ].join(\"\\\\n\");\n",
       "\n",
       "  // element is a jQuery wrapped DOM element inside the output area\n",
       "  // see http://ipython.readthedocs.io/en/stable/api/generated/\\\n",
       "  // IPython.display.html#IPython.display.Javascript.__init__\n",
       "  element[0].appendChild(target);\n",
       "  element[0].appendChild(style);\n",
       "\n",
       "  vega.render(\"#\" + id, spec, type, opt, output_area);\n",
       "}, function (err) {\n",
       "  if (err.requireType !== \"scripterror\") {\n",
       "    throw(err);\n",
       "  }\n",
       "});\n"
      ],
      "text/plain": [
       "<vega.vegalite.VegaLite at 0x7f5feb05d780>"
      ]
     },
     "metadata": {
      "jupyter-vega": "#6dcb5551-7ff4-47cf-9056-d63fccd1e1e2"
     },
     "output_type": "display_data"
    },
    {
     "data": {
      "text/plain": []
     },
     "execution_count": 12,
     "metadata": {},
     "output_type": "execute_result"
    },
    {
     "data": {
      "image/png": "[encoded data removed]"
     },
     "metadata": {
      "jupyter-vega": "#6dcb5551-7ff4-47cf-9056-d63fccd1e1e2"
     },
     "output_type": "display_data"
    },
    {
     "data": {
      "image/png": "[encoded data removed]"
     },
     "metadata": {
      "jupyter-vega": "#6dcb5551-7ff4-47cf-9056-d63fccd1e1e2"
     },
     "output_type": "display_data"
    }
   ],
   "source": [
    "line"
   ]
  },
  {
   "cell_type": "code",
   "execution_count": 16,
   "metadata": {},
   "outputs": [],
   "source": [
    "angle_dev_from_1 = archive_df['objective_values'].apply(lambda x: np.degrees(np.arccos(np.dot(x,[1,1,0,0,0])/(np.linalg.norm(x)*np.linalg.norm([1,1,0,0,0])))))\n",
    "angle_dev_from_2 = archive_df['objective_values'].apply(lambda x: np.degrees(np.arccos(np.dot(x,[0,0,0,1,1])/(np.linalg.norm(x)*np.linalg.norm([0,0,0,1,1])))))"
   ]
  },
  {
   "cell_type": "code",
   "execution_count": 17,
   "metadata": {},
   "outputs": [],
   "source": [
    "archive_df['angle_1'] = angle_dev_from_1\n",
    "archive_df['angle_2'] = angle_dev_from_2"
   ]
  },
  {
   "cell_type": "code",
   "execution_count": 18,
   "metadata": {},
   "outputs": [],
   "source": [
    "y_angle_1 = alt.Y('median(angle_1)')\n",
    "y_angle_2 = alt.Y('median(angle_2)')"
   ]
  },
  {
   "cell_type": "code",
   "execution_count": 19,
   "metadata": {},
   "outputs": [
    {
     "data": {
      "application/javascript": [
       "var spec = {\"config\": {\"view\": {\"width\": 400, \"height\": 300}, \"mark\": {\"tooltip\": null}}, \"data\": {\"url\": \"altair-data-96c8a733ad37406295fbcbb2c411d1ee.json\", \"format\": {\"type\": \"json\"}}, \"mark\": {\"type\": \"line\", \"clip\": true}, \"encoding\": {\"x\": {\"type\": \"quantitative\", \"field\": \"generation\", \"scale\": {\"domain\": [500, 2060]}}, \"y\": {\"type\": \"quantitative\", \"aggregate\": \"median\", \"field\": \"angle_1\"}}, \"title\": \"Median Angular Deviation of objective vectors from Reference Point 1\", \"$schema\": \"https://vega.github.io/schema/vega-lite/v3.2.1.json\"};\n",
       "var opt = {};\n",
       "var type = \"vega-lite\";\n",
       "var id = \"c943636d-b85a-4032-b3ae-658d385766df\";\n",
       "\n",
       "var output_area = this;\n",
       "\n",
       "require([\"nbextensions/jupyter-vega/index\"], function(vega) {\n",
       "  var target = document.createElement(\"div\");\n",
       "  target.id = id;\n",
       "  target.className = \"vega-embed\";\n",
       "\n",
       "  var style = document.createElement(\"style\");\n",
       "  style.textContent = [\n",
       "    \".vega-embed .error p {\",\n",
       "    \"  color: firebrick;\",\n",
       "    \"  font-size: 14px;\",\n",
       "    \"}\",\n",
       "  ].join(\"\\\\n\");\n",
       "\n",
       "  // element is a jQuery wrapped DOM element inside the output area\n",
       "  // see http://ipython.readthedocs.io/en/stable/api/generated/\\\n",
       "  // IPython.display.html#IPython.display.Javascript.__init__\n",
       "  element[0].appendChild(target);\n",
       "  element[0].appendChild(style);\n",
       "\n",
       "  vega.render(\"#\" + id, spec, type, opt, output_area);\n",
       "}, function (err) {\n",
       "  if (err.requireType !== \"scripterror\") {\n",
       "    throw(err);\n",
       "  }\n",
       "});\n"
      ],
      "text/plain": [
       "<vega.vegalite.VegaLite at 0x7f8e65a071d0>"
      ]
     },
     "metadata": {
      "jupyter-vega": "#c943636d-b85a-4032-b3ae-658d385766df"
     },
     "output_type": "display_data"
    },
    {
     "data": {
      "text/plain": []
     },
     "execution_count": 19,
     "metadata": {},
     "output_type": "execute_result"
    },
    {
     "data": {
      "image/png": "[encoded data removed]"
     },
     "metadata": {
      "jupyter-vega": "#c943636d-b85a-4032-b3ae-658d385766df"
     },
     "output_type": "display_data"
    },
    {
     "data": {
      "image/png": "[encoded data removed]"
     },
     "metadata": {
      "jupyter-vega": "#c943636d-b85a-4032-b3ae-658d385766df"
     },
     "output_type": "display_data"
    }
   ],
   "source": [
    "line_angle_1 = alt.Chart(archive_df).mark_line(clip=True).encode(x=x, y=y_angle_1).properties(title='Median Angular Deviation of objective vectors from Reference Point 1')\n",
    "line_angle_1"
   ]
  },
  {
   "cell_type": "code",
   "execution_count": 20,
   "metadata": {},
   "outputs": [
    {
     "data": {
      "application/javascript": [
       "var spec = {\"config\": {\"view\": {\"width\": 400, \"height\": 300}, \"mark\": {\"tooltip\": null}}, \"data\": {\"url\": \"altair-data-96c8a733ad37406295fbcbb2c411d1ee.json\", \"format\": {\"type\": \"json\"}}, \"mark\": {\"type\": \"line\", \"clip\": true}, \"encoding\": {\"x\": {\"type\": \"quantitative\", \"field\": \"generation\", \"scale\": {\"domain\": [500, 2060]}}, \"y\": {\"type\": \"quantitative\", \"aggregate\": \"median\", \"field\": \"angle_2\"}}, \"title\": \"Median Angular Deviation of objective vectors from Reference Point 2\", \"$schema\": \"https://vega.github.io/schema/vega-lite/v3.2.1.json\"};\n",
       "var opt = {};\n",
       "var type = \"vega-lite\";\n",
       "var id = \"350f63d6-5c3c-4ed8-9e4d-d6179b60e199\";\n",
       "\n",
       "var output_area = this;\n",
       "\n",
       "require([\"nbextensions/jupyter-vega/index\"], function(vega) {\n",
       "  var target = document.createElement(\"div\");\n",
       "  target.id = id;\n",
       "  target.className = \"vega-embed\";\n",
       "\n",
       "  var style = document.createElement(\"style\");\n",
       "  style.textContent = [\n",
       "    \".vega-embed .error p {\",\n",
       "    \"  color: firebrick;\",\n",
       "    \"  font-size: 14px;\",\n",
       "    \"}\",\n",
       "  ].join(\"\\\\n\");\n",
       "\n",
       "  // element is a jQuery wrapped DOM element inside the output area\n",
       "  // see http://ipython.readthedocs.io/en/stable/api/generated/\\\n",
       "  // IPython.display.html#IPython.display.Javascript.__init__\n",
       "  element[0].appendChild(target);\n",
       "  element[0].appendChild(style);\n",
       "\n",
       "  vega.render(\"#\" + id, spec, type, opt, output_area);\n",
       "}, function (err) {\n",
       "  if (err.requireType !== \"scripterror\") {\n",
       "    throw(err);\n",
       "  }\n",
       "});\n"
      ],
      "text/plain": [
       "<vega.vegalite.VegaLite at 0x7f8e6c31bfd0>"
      ]
     },
     "metadata": {
      "jupyter-vega": "#350f63d6-5c3c-4ed8-9e4d-d6179b60e199"
     },
     "output_type": "display_data"
    },
    {
     "data": {
      "text/plain": []
     },
     "execution_count": 20,
     "metadata": {},
     "output_type": "execute_result"
    },
    {
     "data": {
      "image/png": "[encoded data removed]"
     },
     "metadata": {
      "jupyter-vega": "#350f63d6-5c3c-4ed8-9e4d-d6179b60e199"
     },
     "output_type": "display_data"
    },
    {
     "data": {
      "image/png": "[encoded data removed]"
     },
     "metadata": {
      "jupyter-vega": "#350f63d6-5c3c-4ed8-9e4d-d6179b60e199"
     },
     "output_type": "display_data"
    }
   ],
   "source": [
    "line_angle_2 = alt.Chart(archive_df).mark_line(clip=True).encode(x=x, y=y_angle_2).properties(title='Median Angular Deviation of objective vectors from Reference Point 2')\n",
    "line_angle_2"
   ]
  },
  {
   "cell_type": "markdown",
   "metadata": {},
   "source": [
    "# Old RVEA"
   ]
  },
  {
   "cell_type": "code",
   "execution_count": 13,
   "metadata": {},
   "outputs": [],
   "source": [
    "pop = Population(problem, assign_type=\"empty\")"
   ]
  },
  {
   "cell_type": "code",
   "execution_count": 14,
   "metadata": {},
   "outputs": [
    {
     "name": "stdout",
     "output_type": "stream",
     "text": [
      "Plot saved as:  DTLZ3_5.html\n",
      "View the plot by opening the file in browser.\n",
      "To view the plot in Jupyter Notebook, use the IFrame command.\n"
     ]
    },
    {
     "data": {
      "application/vnd.jupyter.widget-view+json": {
       "model_id": "a2af3ad1896649c59ca915a637171f1a",
       "version_major": 2,
       "version_minor": 0
      },
      "text/plain": [
       "HBox(children=(IntProgress(value=0, description='Iteration', max=19, style=ProgressStyle(description_width='in…"
      ]
     },
     "metadata": {},
     "output_type": "display_data"
    },
    {
     "name": "stdout",
     "output_type": "stream",
     "text": [
      "\n"
     ]
    }
   ],
   "source": [
    "pop.evolve(slowRVEA, {\"generations_per_iteration\": 100, \"iterations\": 20})"
   ]
  },
  {
   "cell_type": "code",
   "execution_count": null,
   "metadata": {},
   "outputs": [],
   "source": [
    "pop.evolve(\n",
    "    slowRVEA,\n",
    "    {\n",
    "        \"generations_per_iteration\": 4,\n",
    "        \"iterations\": 20,\n",
    "        \"old_point\": [1, 1, 0, 0, 0],\n",
    "        \"ref_point\": [1, 1, 0, 0, 0],\n",
    "    },\n",
    ")"
   ]
  },
  {
   "cell_type": "code",
   "execution_count": null,
   "metadata": {},
   "outputs": [],
   "source": [
    "pop.evolve(\n",
    "    slowRVEA,\n",
    "    {\n",
    "        \"generations_per_iteration\": 4,\n",
    "        \"iterations\": 20,\n",
    "        \"old_point\": [0, 0, 0, 1, 1],\n",
    "        \"ref_point\": [0, 0, 0, 1, 1],\n",
    "    },\n",
    ")"
   ]
  },
  {
   "cell_type": "code",
   "execution_count": null,
   "metadata": {},
   "outputs": [],
   "source": [
    "archive_df = pop.archive"
   ]
  },
  {
   "cell_type": "code",
   "execution_count": null,
   "metadata": {},
   "outputs": [],
   "source": [
    "objective_norms = archive_df['objective_values'].apply(lambda x: np.linalg.norm(x))\n",
    "archive_df['objective_norms'] = objective_norms"
   ]
  },
  {
   "cell_type": "code",
   "execution_count": null,
   "metadata": {},
   "outputs": [],
   "source": [
    "x = alt.X('generation', scale=alt.Scale(domain=(500,2060)))\n",
    "y_obj = alt.Y('mean(objective_norms)', scale=alt.Scale(type='log',domain=(1,10)))"
   ]
  },
  {
   "cell_type": "code",
   "execution_count": null,
   "metadata": {},
   "outputs": [],
   "source": [
    "line = alt.Chart(archive_df).mark_line(clip=True).encode(x=x, y=y_obj).properties(title='Median Magnitude of objective vectors')\n",
    "band =alt.Chart(archive_df).mark_errorband(extent='ci', clip=True).encode(x=x, y='objective_norms')\n",
    "line"
   ]
  },
  {
   "cell_type": "code",
   "execution_count": null,
   "metadata": {},
   "outputs": [],
   "source": []
  }
 ],
 "metadata": {
  "kernelspec": {
   "display_name": "Python 3",
   "language": "python",
   "name": "python3"
  },
  "language_info": {
   "codemirror_mode": {
    "name": "ipython",
    "version": 3
   },
   "file_extension": ".py",
   "mimetype": "text/x-python",
   "name": "python",
   "nbconvert_exporter": "python",
   "pygments_lexer": "ipython3",
   "version": "3.7.1"
  }
 },
 "nbformat": 4,
 "nbformat_minor": 2
}
